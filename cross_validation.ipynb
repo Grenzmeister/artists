{
 "cells": [
  {
   "cell_type": "code",
   "execution_count": 1,
   "metadata": {},
   "outputs": [],
   "source": [
    "import torch\n",
    "import numpy as np\n",
    "from PIL import Image\n",
    "import matplotlib.pyplot as plt\n",
    "\n",
    "import torchvision\n",
    "from torchvision import transforms, utils\n",
    "\n",
    "from create_dataset import ArtistsPaintingsDataset\n",
    "from torch.utils.data import Dataset, DataLoader\n",
    "from tqdm import tqdm\n",
    "from NeuralNet import Net\n",
    "\n",
    "from sklearn.model_selection import cross_val_predict\n"
   ]
  },
  {
   "cell_type": "code",
   "execution_count": 6,
   "metadata": {},
   "outputs": [
    {
     "name": "stderr",
     "output_type": "stream",
     "text": [
      "100%|██████████| 142/142 [00:02<00:00, 58.56it/s]\n",
      "100%|██████████| 16/16 [00:00<00:00, 61.83it/s]"
     ]
    },
    {
     "name": "stdout",
     "output_type": "stream",
     "text": [
      "142 train images loaded.\n",
      "16 test images loaded.\n"
     ]
    },
    {
     "name": "stderr",
     "output_type": "stream",
     "text": [
      "\n"
     ]
    }
   ],
   "source": [
    "transform = transforms.Compose([transforms.CenterCrop(size=(256,256)),\n",
    "                                transforms.ToTensor()])\n",
    "\n",
    "# actual artists\n",
    "# artists_idx = [8,13,15,16,19,20,22,30,31,32,46]\n",
    "\n",
    "# debug list\n",
    "artists_idx = [1,2]\n",
    "\n",
    "train_data = ArtistsPaintingsDataset(transform = transform, mode=\"Train\", artists_idx=artists_idx)\n",
    "test_data = ArtistsPaintingsDataset(transform = transform, mode=\"Test\", artists_idx=artists_idx)\n",
    "print(len(train_data), \"train images loaded.\")\n",
    "print(len(test_data), \"test images loaded.\")\n",
    "\n",
    "train_loader = DataLoader(train_data, batch_size=256)\n",
    "test_loader = DataLoader(test_data)"
   ]
  },
  {
   "cell_type": "code",
   "execution_count": null,
   "metadata": {},
   "outputs": [],
   "source": []
  },
  {
   "cell_type": "code",
   "execution_count": null,
   "metadata": {
    "scrolled": false
   },
   "outputs": [],
   "source": []
  },
  {
   "cell_type": "code",
   "execution_count": 18,
   "metadata": {},
   "outputs": [
    {
     "name": "stdout",
     "output_type": "stream",
     "text": [
      "torch.Size([142, 3, 256, 256])\n",
      "torch.Size([142])\n"
     ]
    },
    {
     "name": "stderr",
     "output_type": "stream",
     "text": [
      "/home/lorenz/.local/lib/python3.8/site-packages/torch/tensor.py:365: UserWarning: non-inplace resize is deprecated\n",
      "  warnings.warn(\"non-inplace resize is deprecated\")\n"
     ]
    }
   ],
   "source": [
    "x_cv, y_cv = train_data.samples, train_data.targets\n",
    "x_cv = torch.cat(x_cv, dim = 0).resize(len(y_cv),3,256,256)\n",
    "print(x_cv.shape)\n",
    "y_cv = torch.tensor(y_cv)\n",
    "print(y_cv.shape)"
   ]
  },
  {
   "cell_type": "code",
   "execution_count": 23,
   "metadata": {},
   "outputs": [
    {
     "name": "stdout",
     "output_type": "stream",
     "text": [
      "  epoch    train_loss     dur\n",
      "-------  ------------  ------\n",
      "      1        \u001b[36m0.6924\u001b[0m  5.1514\n",
      "      2        \u001b[36m0.6919\u001b[0m  3.8712\n",
      "      3        \u001b[36m0.6910\u001b[0m  4.5421\n",
      "      4        \u001b[36m0.6900\u001b[0m  4.0317\n",
      "      5        \u001b[36m0.6890\u001b[0m  4.0334\n",
      "      6        \u001b[36m0.6880\u001b[0m  3.9107\n",
      "      7        \u001b[36m0.6871\u001b[0m  3.8359\n",
      "      8        \u001b[36m0.6863\u001b[0m  4.1851\n",
      "      9        \u001b[36m0.6857\u001b[0m  3.8635\n",
      "     10        \u001b[36m0.6853\u001b[0m  3.9844\n",
      "  epoch    train_loss     dur\n",
      "-------  ------------  ------\n",
      "      1        \u001b[36m0.6923\u001b[0m  4.0795\n",
      "      2        \u001b[36m0.6918\u001b[0m  4.1024\n",
      "      3        \u001b[36m0.6908\u001b[0m  4.2827\n",
      "      4        \u001b[36m0.6896\u001b[0m  4.1387\n",
      "      5        \u001b[36m0.6884\u001b[0m  4.0713\n",
      "      6        \u001b[36m0.6873\u001b[0m  3.9425\n",
      "      7        \u001b[36m0.6863\u001b[0m  4.0086\n",
      "      8        \u001b[36m0.6854\u001b[0m  3.9844\n",
      "      9        \u001b[36m0.6847\u001b[0m  3.8984\n",
      "     10        \u001b[36m0.6842\u001b[0m  3.9448\n",
      "  epoch    train_loss     dur\n",
      "-------  ------------  ------\n",
      "      1        \u001b[36m0.6925\u001b[0m  4.0000\n",
      "      2        \u001b[36m0.6921\u001b[0m  3.9332\n",
      "      3        \u001b[36m0.6913\u001b[0m  3.9058\n",
      "      4        \u001b[36m0.6905\u001b[0m  3.8945\n",
      "      5        \u001b[36m0.6896\u001b[0m  3.9763\n",
      "      6        \u001b[36m0.6888\u001b[0m  3.9262\n",
      "      7        \u001b[36m0.6881\u001b[0m  4.1831\n",
      "      8        \u001b[36m0.6875\u001b[0m  3.8908\n",
      "      9        \u001b[36m0.6870\u001b[0m  3.9025\n",
      "     10        \u001b[36m0.6866\u001b[0m  3.9093\n"
     ]
    }
   ],
   "source": [
    "from skorch import NeuralNetClassifier\n",
    "from sklearn.model_selection import cross_val_score\n",
    "net = NeuralNetClassifier(Net(size= (256,256), num_classes = 2),\n",
    "                         train_split=None,\n",
    "                         criterion = torch.nn.CrossEntropyLoss,\n",
    "                         optimizer = torch.optim.SGD,\n",
    "                         lr = 0.1,\n",
    "                         optimizer__momentum = 0.9,\n",
    "                         batch_size = 256)\n",
    "scores = cross_val_score(net, x_cv, y_cv, cv=3)"
   ]
  },
  {
   "cell_type": "code",
   "execution_count": null,
   "metadata": {},
   "outputs": [],
   "source": []
  }
 ],
 "metadata": {
  "kernelspec": {
   "display_name": "Python 3",
   "language": "python",
   "name": "python3"
  },
  "language_info": {
   "codemirror_mode": {
    "name": "ipython",
    "version": 3
   },
   "file_extension": ".py",
   "mimetype": "text/x-python",
   "name": "python",
   "nbconvert_exporter": "python",
   "pygments_lexer": "ipython3",
   "version": "3.8.2"
  }
 },
 "nbformat": 4,
 "nbformat_minor": 4
}
